{
 "cells": [
  {
   "cell_type": "code",
   "execution_count": 2,
   "id": "9ae5fcfa-0f06-4b85-916c-4f8df9f4f5d1",
   "metadata": {},
   "outputs": [],
   "source": [
    "// Add engine.rs"
   ]
  },
  {
   "cell_type": "code",
   "execution_count": 3,
   "id": "9a296119-df59-418d-bcc4-9a8b5f1572d7",
   "metadata": {},
   "outputs": [],
   "source": [
    ":dep rand = \"*\"\n",
    "// ADD nn.rs"
   ]
  },
  {
   "cell_type": "code",
   "execution_count": null,
   "id": "b53b4a22-2395-4fea-baf6-3a95be3a8c45",
   "metadata": {},
   "outputs": [],
   "source": [
    ":dep petgraph = \"*\"\n",
    ":dep petgraph-evcxr = \"*\"\n",
    "// This is literally here to be able to visualize our results using a Jupyter notebook\n",
    "// I'm not even sure we can run this without it.\n",
    "\n",
    "use crate::engine::Value;\n",
    "use petgraph::graph::Graph;\n",
    "use std::collections::HashSet;\n",
    "\n",
    "use petgraph_evcxr::draw_graph;\n",
    "\n",
    "fn build(v: Value, nodes: &mut HashSet<Value>, edges: &mut HashSet<(Value, Value)>) {\n",
    "    if !nodes.contains(&v) {\n",
    "        nodes.insert(v.clone());\n",
    "        v.borrow().prev.iter().for_each(|child| {\n",
    "            edges.insert((child.clone(), v.clone()));\n",
    "            build(child.clone(), nodes, edges);\n",
    "        });\n",
    "    }\n",
    "}\n",
    "\n",
    "fn trace(root: Value) -> (HashSet<Value>, HashSet<(Value, Value)>) {\n",
    "    let mut nodes = HashSet::new();\n",
    "    let mut edges = HashSet::new();\n",
    "\n",
    "    build(root, &mut nodes, &mut edges);\n",
    "    (nodes, edges)\n",
    "}\n",
    "\n",
    "pub fn draw_dot(root: Value) {\n",
    "    let (nodes, edges) = trace(root);\n",
    "    let mut g = Graph::<String, String>::new();\n",
    "    let node_ids = nodes\n",
    "        .iter()\n",
    "        .map(|n| {\n",
    "            (\n",
    "                n.clone(),\n",
    "                g.add_node(format!(\n",
    "                    \"data {:.4} \\ngrad {:.4} \",\n",
    "                    n.borrow().data,\n",
    "                    n.borrow().grad\n",
    "                )),\n",
    "            )\n",
    "        })\n",
    "        .collect::<Vec<_>>();\n",
    "\n",
    "    edges.iter().for_each(|(n1, n2)| {\n",
    "        let node_id1 = node_ids.iter().find(|(n, _)| n == n1).unwrap().1;\n",
    "        let node_id2 = node_ids.iter().find(|(n, _)| n == n2).unwrap().1;\n",
    "        g.add_edge(node_id1, node_id2, n2.borrow().op.clone().expect(\"REASON\"));\n",
    "    });\n",
    "    draw_graph(&g);\n",
    "}\n"
   ]
  }
 ],
 "metadata": {
  "kernelspec": {
   "display_name": "Rust",
   "language": "rust",
   "name": "rust"
  },
  "language_info": {
   "codemirror_mode": "rust",
   "file_extension": ".rs",
   "mimetype": "text/rust",
   "name": "Rust",
   "pygment_lexer": "rust",
   "version": ""
  }
 },
 "nbformat": 4,
 "nbformat_minor": 5
}
